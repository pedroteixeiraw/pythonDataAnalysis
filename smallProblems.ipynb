{
 "cells": [
  {
   "cell_type": "code",
   "execution_count": 2,
   "metadata": {},
   "outputs": [
    {
     "name": "stdout",
     "output_type": "stream",
     "text": [
      "* * * * \n",
      " * * * * \n",
      "  * * * * \n",
      "   * * * * \n"
     ]
    }
   ],
   "source": [
    "'''\n",
    "Given an integer n, representing the width draw a rhombus.\n",
    "\n",
    "Ex) n = 4\n",
    "\n",
    "* * * *\n",
    " * * * *\n",
    "  * * * *\n",
    "   * * * *\n",
    "'''\n",
    "\n",
    "def rhombus(n):\n",
    "    stars = \"* \" * n\n",
    "    for spaces in range(n):\n",
    "        print(spaces * \" \" + stars)\n",
    "\n",
    "rhombus(4)"
   ]
  },
  {
   "cell_type": "code",
   "execution_count": null,
   "metadata": {},
   "outputs": [],
   "source": []
  }
 ],
 "metadata": {
  "kernelspec": {
   "display_name": "Python 3",
   "language": "python",
   "name": "python3"
  },
  "language_info": {
   "codemirror_mode": {
    "name": "ipython",
    "version": 3
   },
   "file_extension": ".py",
   "mimetype": "text/x-python",
   "name": "python",
   "nbconvert_exporter": "python",
   "pygments_lexer": "ipython3",
   "version": "3.11.9"
  }
 },
 "nbformat": 4,
 "nbformat_minor": 2
}
