{
 "cells": [
  {
   "cell_type": "markdown",
   "metadata": {},
   "source": [
    "# Find palindromes\n",
    "\n",
    "Palindromes are pairs of words that become each other when we reverse the order of their letters. That means that all palindromes are anagrams!\n",
    "\n",
    "**Your task:** Write a function that returns all palindromes of seven letters or more. You will work with the dictionary of anagram sets indexed by signature that we created in video anagrams.ipynb.\n",
    "\n",
    "## Parameters\n",
    "\n",
    "- **anagrams_by_signature**: A dictionary containing sets of anagrams, indexed by their signature\n",
    "\n",
    "## Result\n",
    "\n",
    "A **list** of **set** objects containing all palindromic pairs of seven letters or more."
   ]
  },
  {
   "cell_type": "code",
   "execution_count": 2,
   "metadata": {},
   "outputs": [],
   "source": [
    "import collections\n",
    "\n",
    "words = sorted({line.strip().lower() for line in open('words.txt')})\n",
    "\n",
    "def signature(word):\n",
    "    return ''.join(sorted(word))\n",
    "\n",
    "words_by_signature = collections.defaultdict(set)\n",
    "\n",
    "for word in words:\n",
    "    words_by_signature[signature(word)].add(word)\n",
    "\n",
    "anagrams_by_signature = {sig: wordset for sig, wordset in words_by_signature.items() if len(wordset) > 1}"
   ]
  },
  {
   "cell_type": "code",
   "execution_count": null,
   "metadata": {},
   "outputs": [
    {
     "data": {
      "text/plain": [
       "[{'amaroid', 'diorama'},\n",
       " {'anacara', 'aracana'},\n",
       " {'artamus', 'sumatra'},\n",
       " {'dessert', 'tressed'},\n",
       " {'leveler', 'relevel'},\n",
       " {'redrawer', 'rewarder'},\n",
       " {'rotanev', 'venator'}]"
      ]
     },
     "execution_count": 7,
     "metadata": {},
     "output_type": "execute_result"
    }
   ],
   "source": [
    "import itertools\n",
    "\n",
    "def palindromes(anagrams_by_signature):\n",
    "    pals = []\n",
    "    for word_set in anagrams_by_signature.values():\n",
    "        for word1, word2 in itertools.combinations(word_set, 2):\n",
    "            if word1 == word2[::-1] and len(word1) > 6:\n",
    "                pals.append({word1, word2})\n",
    "    return pals\n",
    "\n",
    "palindromes(anagrams_by_signature)"
   ]
  }
 ],
 "metadata": {
  "kernelspec": {
   "display_name": "Python 3",
   "language": "python",
   "name": "python3"
  },
  "language_info": {
   "codemirror_mode": {
    "name": "ipython",
    "version": 3
   },
   "file_extension": ".py",
   "mimetype": "text/x-python",
   "name": "python",
   "nbconvert_exporter": "python",
   "pygments_lexer": "ipython3",
   "version": "3.11.9"
  }
 },
 "nbformat": 4,
 "nbformat_minor": 2
}
