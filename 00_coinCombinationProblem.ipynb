{
 "cells": [
  {
   "cell_type": "markdown",
   "metadata": {},
   "source": [
    "# Solving coin combination for \\$1\n",
    "\n",
    "Consider a combinatorial problem of breaking 1 dollar U.S. into all possible combinations of coins. For instance, four quarters, two quarters and five 10 cent dimes, and so on. Now, if we have to add coins up to 1 dollar, we can use at most 1 dollar coin, two 50 cent coins, four quarters, and so on. We can also mix different values. You can already see how we're going to need several nested loops to figure out all the combinations."
   ]
  },
  {
   "cell_type": "code",
   "execution_count": 24,
   "metadata": {},
   "outputs": [],
   "source": [
    "combinations = []\n",
    "\n",
    "for count_100 in range(1+1):\n",
    "    for count_50 in range(2+1):\n",
    "        for count_25 in range(4+1):\n",
    "            for count_10 in range(10+1):\n",
    "                for count_5 in range(20+1):\n",
    "                    for count_1 in range(100+1):\n",
    "                        if 100*count_100 + 50*count_50 + 25*count_25 + 10*count_10 + 5*count_5 + count_1 == 100:\n",
    "                            combinations.append([count_100, count_50, count_25, count_10, count_5, count_1])"
   ]
  },
  {
   "cell_type": "markdown",
   "metadata": {},
   "source": [
    "Let's see the first ten possible combinantions:"
   ]
  },
  {
   "cell_type": "code",
   "execution_count": 25,
   "metadata": {},
   "outputs": [
    {
     "data": {
      "text/plain": [
       "[[0, 0, 0, 0, 0, 100],\n",
       " [0, 0, 0, 0, 1, 95],\n",
       " [0, 0, 0, 0, 2, 90],\n",
       " [0, 0, 0, 0, 3, 85],\n",
       " [0, 0, 0, 0, 4, 80],\n",
       " [0, 0, 0, 0, 5, 75],\n",
       " [0, 0, 0, 0, 6, 70],\n",
       " [0, 0, 0, 0, 7, 65],\n",
       " [0, 0, 0, 0, 8, 60],\n",
       " [0, 0, 0, 0, 9, 55]]"
      ]
     },
     "execution_count": 25,
     "metadata": {},
     "output_type": "execute_result"
    }
   ],
   "source": [
    "combinations[:10]"
   ]
  },
  {
   "cell_type": "code",
   "execution_count": 26,
   "metadata": {},
   "outputs": [
    {
     "data": {
      "text/plain": [
       "293"
      ]
     },
     "execution_count": 26,
     "metadata": {},
     "output_type": "execute_result"
    }
   ],
   "source": [
    "len(combinations)"
   ]
  },
  {
   "cell_type": "markdown",
   "metadata": {},
   "source": [
    "It turns out that there are 293 ways to get $1 out of change. \n",
    "\n",
    "This is the solution to the problem. \n",
    "However, in this analysis, it often happens that the solution raises a new set of questions. \n",
    " - How many ways to make $2 out of change, or three? \n",
    " - Does the number of combination increase linearly or quadratically?\n",
    "\n",
    "What we need to do is to take the code we wrote and generalize it to answer those questions. Before we do so, we make a couple of changes to our code to make it faster and easier to generalize. This is an example of **refactoring**. "
   ]
  },
  {
   "cell_type": "markdown",
   "metadata": {},
   "source": [
    "## Refactoring\n",
    "The first change is that we will not loop by count, but by value using the step argument. For instance, instead of the loop over quarters from zero through four, we will loop over the values."
   ]
  },
  {
   "cell_type": "code",
   "execution_count": 27,
   "metadata": {},
   "outputs": [
    {
     "name": "stdout",
     "output_type": "stream",
     "text": [
      "0\n",
      "25\n",
      "50\n",
      "75\n",
      "100\n"
     ]
    }
   ],
   "source": [
    "for amount_25 in range(0, 100+1, 25):\n",
    "    print(amount_25)"
   ]
  },
  {
   "cell_type": "markdown",
   "metadata": {},
   "source": [
    "The second change is to recognize that we don't actually need the innermost loop. As long as the total up to that point is less or equal $1, then we can always make up the difference with pennies. So we write one fewer loop."
   ]
  },
  {
   "cell_type": "code",
   "execution_count": 28,
   "metadata": {},
   "outputs": [],
   "source": [
    "combinations_amounts = []\n",
    "\n",
    "for amount_100 in range(0, 100+1, 100):\n",
    "    for amount_50 in range(0, 100+1, 50):\n",
    "        for amount_25 in range(0, 100+1, 25):\n",
    "            for amount_10 in range(0, 100+1, 10):\n",
    "                for amount_5 in range(0, 100+1, 5):\n",
    "                    total_so_far = amount_100 + amount_50 + amount_25 + amount_10 + amount_5\n",
    "                    \n",
    "                    if total_so_far <= 100:\n",
    "                        combinations_amounts.append([amount_100, amount_50, amount_25, amount_10, amount_5,\n",
    "                                                     100 - total_so_far])"
   ]
  },
  {
   "cell_type": "code",
   "execution_count": 29,
   "metadata": {},
   "outputs": [
    {
     "data": {
      "text/plain": [
       "[[0, 0, 0, 0, 0, 100],\n",
       " [0, 0, 0, 0, 5, 95],\n",
       " [0, 0, 0, 0, 10, 90],\n",
       " [0, 0, 0, 0, 15, 85],\n",
       " [0, 0, 0, 0, 20, 80],\n",
       " [0, 0, 0, 0, 25, 75],\n",
       " [0, 0, 0, 0, 30, 70],\n",
       " [0, 0, 0, 0, 35, 65],\n",
       " [0, 0, 0, 0, 40, 60],\n",
       " [0, 0, 0, 0, 45, 55]]"
      ]
     },
     "execution_count": 29,
     "metadata": {},
     "output_type": "execute_result"
    }
   ],
   "source": [
    "combinations_amounts[:10]"
   ]
  },
  {
   "cell_type": "code",
   "execution_count": 30,
   "metadata": {},
   "outputs": [
    {
     "data": {
      "text/plain": [
       "293"
      ]
     },
     "execution_count": 30,
     "metadata": {},
     "output_type": "execute_result"
    }
   ],
   "source": [
    "len(combinations_amounts) "
   ]
  },
  {
   "cell_type": "markdown",
   "metadata": {},
   "source": [
    "This looks all right. We're almost done. \n",
    "\n",
    "Now we can take our code and make it into a function *find_combinations* by replacing the value 100 everywhere with a variable argument. We also wrap our computation with def and return statements as appropriate for a function."
   ]
  },
  {
   "cell_type": "code",
   "execution_count": 31,
   "metadata": {},
   "outputs": [],
   "source": [
    "# [copy code from above]\n",
    "def find_combinations(total):\n",
    "    combinations_amounts = []\n",
    "\n",
    "    for amount_100 in range(0, total+1, 100):\n",
    "        for amount_50 in range(0, total+1, 50):\n",
    "            for amount_25 in range(0, total+1, 25):\n",
    "                for amount_10 in range(0, total+1, 10):\n",
    "                    for amount_5 in range(0, total+1, 5):\n",
    "                        total_so_far = amount_100 + amount_50 + amount_25 + amount_10 + amount_5\n",
    "\n",
    "                        if total_so_far <= total:\n",
    "                            combinations_amounts.append([amount_100, amount_50, amount_25, amount_10, amount_5,\n",
    "                                                         total - total_so_far])\n",
    "    \n",
    "    return combinations_amounts"
   ]
  },
  {
   "cell_type": "markdown",
   "metadata": {},
   "source": [
    "So let's see how we can make $2 and $3."
   ]
  },
  {
   "cell_type": "code",
   "execution_count": 32,
   "metadata": {},
   "outputs": [
    {
     "data": {
      "text/plain": [
       "2728"
      ]
     },
     "execution_count": 32,
     "metadata": {},
     "output_type": "execute_result"
    }
   ],
   "source": [
    "len(find_combinations(200))"
   ]
  },
  {
   "cell_type": "code",
   "execution_count": 33,
   "metadata": {},
   "outputs": [
    {
     "data": {
      "text/plain": [
       "12318"
      ]
     },
     "execution_count": 33,
     "metadata": {},
     "output_type": "execute_result"
    }
   ],
   "source": [
    "len(find_combinations(300))"
   ]
  },
  {
   "cell_type": "markdown",
   "metadata": {},
   "source": [
    "You may be curious to know how fast this number grows. A Matplotlib plot should give us an idea."
   ]
  },
  {
   "cell_type": "code",
   "execution_count": 34,
   "metadata": {},
   "outputs": [
    {
     "data": {
      "text/plain": [
       "[<matplotlib.lines.Line2D at 0x22434c2aad0>]"
      ]
     },
     "execution_count": 34,
     "metadata": {},
     "output_type": "execute_result"
    },
    {
     "data": {
      "image/png": "[encoded data removed]",
      "text/plain": [
       "<Figure size 640x480 with 1 Axes>"
      ]
     },
     "metadata": {},
     "output_type": "display_data"
    }
   ],
   "source": [
    "import matplotlib.pyplot as pp  \n",
    "\n",
    "totals = range(100, 600, 100)\n",
    "lengths = [len(find_combinations(total)) for total in totals]\n",
    "pp.plot(totals, lengths)"
   ]
  },
  {
   "cell_type": "markdown",
   "metadata": {},
   "source": [
    "In fact, this number grows approximately as the fifth power of the total value."
   ]
  }
 ],
 "metadata": {
  "kernelspec": {
   "display_name": "Python 3",
   "language": "python",
   "name": "python3"
  },
  "language_info": {
   "codemirror_mode": {
    "name": "ipython",
    "version": 3
   },
   "file_extension": ".py",
   "mimetype": "text/x-python",
   "name": "python",
   "nbconvert_exporter": "python",
   "pygments_lexer": "ipython3",
   "version": "3.11.9"
  }
 },
 "nbformat": 4,
 "nbformat_minor": 2
}
