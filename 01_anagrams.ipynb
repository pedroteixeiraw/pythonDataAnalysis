{
 "cells": [
  {
   "cell_type": "markdown",
   "metadata": {},
   "source": [
    "# Detect anagrams in the English dictionary"
   ]
  },
  {
   "cell_type": "markdown",
   "metadata": {},
   "source": [
    "Two words are anagrams of each other when their letters can be rearranged to turn one word into the other. For instance, **stop** can be anagrammed into **post**, **spot**, **tops**, **pots**, and **opts**. \n",
    "\n",
    "To detect anagrams I'll use this simple strategy: \n",
    "\n",
    "I will define the **signature** of a word as the sorted list of its letters including duplicates. So the signature of Python would be hnopty. Two words are anagrams of each other if they have the same signature.\n",
    "\n",
    "Thus, I'm going to make a Python dict of all the words in a dictionary indexed by the signature. Looking up if a word has an anagram would then be as simple as computing its signature and looking it up in the dict.\n",
    "\n",
    "anagrams_by_signature = {'post':{'post', 'spot', 'tops', 'pots', 'opts'}, ...}\n",
    "\n",
    "Let's begin!"
   ]
  },
  {
   "cell_type": "markdown",
   "metadata": {},
   "source": [
    "## Implementation\n",
    "We begin by loading a dictionary from a file, *words.txt*. The repository contains the 1934 English dictionary that is distributed with many Unix systems.\n",
    "\n",
    "In Python, we talk of idioms when we think of code constructs that have become the preferred way to achieve a certain goal. One example is looping through all the lines of the text file. In this case we will store the words into a list."
   ]
  },
  {
   "cell_type": "code",
   "execution_count": 2,
   "metadata": {},
   "outputs": [],
   "source": [
    "words = []\n",
    "for line in open('words.txt'):\n",
    "    words.append(line)"
   ]
  },
  {
   "cell_type": "markdown",
   "metadata": {},
   "source": [
    "We get more than 200 000 words."
   ]
  },
  {
   "cell_type": "code",
   "execution_count": 3,
   "metadata": {},
   "outputs": [
    {
     "data": {
      "text/plain": [
       "235886"
      ]
     },
     "execution_count": 3,
     "metadata": {},
     "output_type": "execute_result"
    }
   ],
   "source": [
    "len(words)"
   ]
  },
  {
   "cell_type": "code",
   "execution_count": 4,
   "metadata": {},
   "outputs": [
    {
     "data": {
      "text/plain": [
       "['A\\n',\n",
       " 'a\\n',\n",
       " 'aa\\n',\n",
       " 'aal\\n',\n",
       " 'aalii\\n',\n",
       " 'aam\\n',\n",
       " 'Aani\\n',\n",
       " 'aardvark\\n',\n",
       " 'aardwolf\\n',\n",
       " 'Aaron\\n']"
      ]
     },
     "execution_count": 4,
     "metadata": {},
     "output_type": "execute_result"
    }
   ],
   "source": [
    "words[:10]"
   ]
  },
  {
   "cell_type": "markdown",
   "metadata": {},
   "source": [
    "I do see two problems, though, every word ends in the new line character, and also some words are capitalized, which will interfere with our signature scheme. We can fix both issues using Python string methods.\n",
    "\n",
    "We can refactor your code to address those issues."
   ]
  },
  {
   "cell_type": "code",
   "execution_count": 5,
   "metadata": {},
   "outputs": [],
   "source": [
    "words = []\n",
    "for line in open('words.txt'):\n",
    "    words.append(line.strip().lower())"
   ]
  },
  {
   "cell_type": "code",
   "execution_count": 6,
   "metadata": {},
   "outputs": [
    {
     "data": {
      "text/plain": [
       "['a',\n",
       " 'a',\n",
       " 'aa',\n",
       " 'aal',\n",
       " 'aalii',\n",
       " 'aam',\n",
       " 'aani',\n",
       " 'aardvark',\n",
       " 'aardwolf',\n",
       " 'aaron']"
      ]
     },
     "execution_count": 6,
     "metadata": {},
     "output_type": "execute_result"
    }
   ],
   "source": [
    "words[:10]"
   ]
  },
  {
   "cell_type": "markdown",
   "metadata": {},
   "source": [
    "Problem solved! Ah, I do see a duplicate, which comes from the **A** appearing both in uppercase and lowercase. One way to get rid of that is to build not a list, but a set."
   ]
  },
  {
   "cell_type": "code",
   "execution_count": 7,
   "metadata": {},
   "outputs": [],
   "source": [
    "words = set()\n",
    "for line in open('words.txt'):\n",
    "    words.add(line.strip().lower())"
   ]
  },
  {
   "cell_type": "markdown",
   "metadata": {},
   "source": [
    "Given that the body of the loop is just one line, we can do it more idiomatically with a comprehension."
   ]
  },
  {
   "cell_type": "code",
   "execution_count": 8,
   "metadata": {},
   "outputs": [],
   "source": [
    "words = {line.strip().lower() for line in open('words.txt')}"
   ]
  },
  {
   "cell_type": "markdown",
   "metadata": {},
   "source": [
    "Finally, to get the list in alphabetical order, we can just wrap the set in the Python built-in sorted."
   ]
  },
  {
   "cell_type": "code",
   "execution_count": 9,
   "metadata": {},
   "outputs": [],
   "source": [
    "words = sorted({line.strip().lower() for line in open('words.txt')})"
   ]
  },
  {
   "cell_type": "markdown",
   "metadata": {},
   "source": [
    "We are now ready to make anagrams. We need a function to make signatures."
   ]
  },
  {
   "cell_type": "code",
   "execution_count": 10,
   "metadata": {},
   "outputs": [],
   "source": [
    "def signature(word):\n",
    "    return ''.join(sorted(word))"
   ]
  },
  {
   "cell_type": "markdown",
   "metadata": {},
   "source": [
    "Our strategy is based on building a python dictionary of words indexed by signatures. That is, the keys will be signatures, and the values will be sets of words. We'll call it words_by_signature. We can make it with a loop."
   ]
  },
  {
   "cell_type": "code",
   "execution_count": 11,
   "metadata": {},
   "outputs": [],
   "source": [
    "words_by_signautre = {}\n",
    "\n",
    "for word in words:\n",
    "    if signature(word) not in words_by_signautre:\n",
    "        # if we haven't seen this signature, define the dictionary entry with this word\n",
    "        words_by_signautre[signature(word)] = {word}\n",
    "    else:\n",
    "        # otherwise add the word to the set for this signature\n",
    "        words_by_signautre[signature(word)].add(word)"
   ]
  },
  {
   "cell_type": "markdown",
   "metadata": {},
   "source": [
    "This works fine, but we should improve on this awkward and repetitious code. The problem is that if a signatory is not already in the dictionary, then we need to create a set with a single word. But if it is there, we need to add a new word to the existing set. We can avoid this complication by using a default dict that will automatically initialize a signature with an empty set. The argument to default dict must be a function that makes the default value. We call it a factory sometimes. So in this case, set will do.If you call it without parameters, you just get the empty set."
   ]
  },
  {
   "cell_type": "code",
   "execution_count": 12,
   "metadata": {},
   "outputs": [],
   "source": [
    "import collections\n",
    "\n",
    "words_by_signature = collections.defaultdict(set)\n",
    "\n",
    "for word in words:\n",
    "    words_by_signature[signature(word)].add(word)"
   ]
  },
  {
   "cell_type": "markdown",
   "metadata": {},
   "source": [
    "We can save some memoryand CPU by removing all signatures that correspond to a single word. Every word is an anagram of itself, but that's not very interesting. A dict comprehension will do the job. Remember to iterate on both key and value, we use dict items."
   ]
  },
  {
   "cell_type": "code",
   "execution_count": 13,
   "metadata": {},
   "outputs": [],
   "source": [
    "anagrams_by_signature = {sig: wordset for sig, wordset in words_by_signature.items() if len(wordset) > 1}"
   ]
  },
  {
   "cell_type": "markdown",
   "metadata": {},
   "source": [
    "So finding the anagrams of python is as simple as looking for its signature in our dictionary."
   ]
  },
  {
   "cell_type": "code",
   "execution_count": 14,
   "metadata": {},
   "outputs": [
    {
     "data": {
      "text/plain": [
       "{'phyton', 'python'}"
      ]
     },
     "execution_count": 14,
     "metadata": {},
     "output_type": "execute_result"
    }
   ],
   "source": [
    "anagrams_by_signature[signature('python')]"
   ]
  },
  {
   "cell_type": "markdown",
   "metadata": {},
   "source": [
    "We can do this with a simple function."
   ]
  },
  {
   "cell_type": "code",
   "execution_count": 15,
   "metadata": {},
   "outputs": [
    {
     "data": {
      "text/plain": [
       "{'post', 'spot', 'stop', 'tops'}"
      ]
     },
     "execution_count": 15,
     "metadata": {},
     "output_type": "execute_result"
    }
   ],
   "source": [
    "def find_anagrams(myword):\n",
    "    return anagrams_by_signature[signature(myword)]\n",
    "\n",
    "find_anagrams('tops')"
   ]
  },
  {
   "cell_type": "markdown",
   "metadata": {},
   "source": [
    "Works fine! What about my name?"
   ]
  },
  {
   "cell_type": "code",
   "execution_count": 16,
   "metadata": {},
   "outputs": [
    {
     "ename": "KeyError",
     "evalue": "'Pdeor'",
     "output_type": "error",
     "traceback": [
      "\u001b[1;31m---------------------------------------------------------------------------\u001b[0m",
      "\u001b[1;31mKeyError\u001b[0m                                  Traceback (most recent call last)",
      "Cell \u001b[1;32mIn[16], line 1\u001b[0m\n\u001b[1;32m----> 1\u001b[0m \u001b[43mfind_anagrams\u001b[49m\u001b[43m(\u001b[49m\u001b[38;5;124;43m'\u001b[39;49m\u001b[38;5;124;43mPedro\u001b[39;49m\u001b[38;5;124;43m'\u001b[39;49m\u001b[43m)\u001b[49m\n",
      "Cell \u001b[1;32mIn[15], line 2\u001b[0m, in \u001b[0;36mfind_anagrams\u001b[1;34m(myword)\u001b[0m\n\u001b[0;32m      1\u001b[0m \u001b[38;5;28;01mdef\u001b[39;00m\u001b[38;5;250m \u001b[39m\u001b[38;5;21mfind_anagrams\u001b[39m(myword):\n\u001b[1;32m----> 2\u001b[0m     \u001b[38;5;28;01mreturn\u001b[39;00m \u001b[43managrams_by_signature\u001b[49m\u001b[43m[\u001b[49m\u001b[43msignature\u001b[49m\u001b[43m(\u001b[49m\u001b[43mmyword\u001b[49m\u001b[43m)\u001b[49m\u001b[43m]\u001b[49m\n",
      "\u001b[1;31mKeyError\u001b[0m: 'Pdeor'"
     ]
    }
   ],
   "source": [
    "find_anagrams('Pedro')"
   ]
  },
  {
   "cell_type": "markdown",
   "metadata": {},
   "source": [
    "So, no anagrams with my name. But perhaps we shouldn't get an error when no anagram is found. How about we just return the empty set? We can do that by catching the exception and doing otherwise."
   ]
  },
  {
   "cell_type": "code",
   "execution_count": 17,
   "metadata": {},
   "outputs": [],
   "source": [
    "def find_anagram(myWord):\n",
    "    try:\n",
    "        return anagrams_by_signature[signature(myWord)]\n",
    "    except KeyError:\n",
    "        return set()"
   ]
  },
  {
   "cell_type": "code",
   "execution_count": 18,
   "metadata": {},
   "outputs": [
    {
     "data": {
      "text/plain": [
       "set()"
      ]
     },
     "execution_count": 18,
     "metadata": {},
     "output_type": "execute_result"
    }
   ],
   "source": [
    "find_anagram('Pedro')"
   ]
  },
  {
   "cell_type": "markdown",
   "metadata": {},
   "source": [
    "Now that we have set up this machinery, there are many interesting investigations we could do. For instance, we could find the longest anagrams, which we get by sorting the signatures by length. We can use sorted, but we need to tell it to sort by length, not alphabetical order, and to reverse the result."
   ]
  },
  {
   "cell_type": "code",
   "execution_count": null,
   "metadata": {},
   "outputs": [],
   "source": [
    "sorted(anagrams_by_signature.keys(), key = len, reverse = True)"
   ]
  },
  {
   "cell_type": "markdown",
   "metadata": {},
   "source": [
    "We can wrap this list into comprehensionto see the actual anagrams."
   ]
  },
  {
   "cell_type": "code",
   "execution_count": null,
   "metadata": {},
   "outputs": [],
   "source": [
    "[anagrams_by_signature[sig] for sig in sorted(anagrams_by_signature.keys(), key = len, reverse = True)]"
   ]
  },
  {
   "cell_type": "markdown",
   "metadata": {},
   "source": [
    "How about the set of anagrams with the most words? For this, we sort the dict values instead of the keys."
   ]
  },
  {
   "cell_type": "code",
   "execution_count": null,
   "metadata": {},
   "outputs": [],
   "source": [
    "sorted(anagrams_by_signature.values(), key=len, reverse=True)"
   ]
  },
  {
   "cell_type": "code",
   "execution_count": null,
   "metadata": {},
   "outputs": [
    {
     "data": {
      "text/plain": [
       "10"
      ]
     },
     "execution_count": 40,
     "metadata": {},
     "output_type": "execute_result"
    }
   ],
   "source": [
    "len(sorted(anagrams_by_signature.values(), key=len, reverse=True)[0])"
   ]
  }
 ],
 "metadata": {
  "kernelspec": {
   "display_name": "Python 3",
   "language": "python",
   "name": "python3"
  },
  "language_info": {
   "codemirror_mode": {
    "name": "ipython",
    "version": 3
   },
   "file_extension": ".py",
   "mimetype": "text/x-python",
   "name": "python",
   "nbconvert_exporter": "python",
   "pygments_lexer": "ipython3",
   "version": "3.11.9"
  }
 },
 "nbformat": 4,
 "nbformat_minor": 2
}
