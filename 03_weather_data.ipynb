{
 "cells": [
  {
   "cell_type": "markdown",
   "metadata": {},
   "source": [
    "# Weather Data\n",
    "DAILY GLOBAL HISTORICAL CLIMATOLOGY NETWORK (GHCN-DAILY) Version 3.31\n",
    "\n",
    "https://www.ncei.noaa.gov/pub/data/ghcn/daily/\n",
    "\n",
    "Before loading the data, it's always a good idea to start by looking at the documentation. Browsing through the file listing at the NOAA repository we see a *readme.txt*. We'll start there. It describes the content of the repository,the format of the weather data files,which have an ending DLY,and which contain data for a single stationformatted with fixed width columns.Lots of detail here.Next, the readme filedescribes the format of a file ghcnd stations.txt.That gives us the location, elevation,and ID for each station in the network.We'll start with this station's database.\n",
    "\n",
    "\n",
    "    IV. FORMAT OF \"ghcnd-stations.txt\"\n",
    "    \n",
    "    ------------------------------\n",
    "    Variable   Columns   Type\n",
    "    ------------------------------\n",
    "    ID            1-11   Character\n",
    "    LATITUDE     13-20   Real\n",
    "    LONGITUDE    22-30   Real\n",
    "    ELEVATION    32-37   Real\n",
    "    STATE        39-40   Character\n",
    "    NAME         42-71   Character\n",
    "    GSN FLAG     73-75   Character\n",
    "    HCN/CRN FLAG 77-79   Character\n",
    "    WMO ID       81-85   Character\n",
    "    ------------------------------\n"
   ]
  },
  {
   "cell_type": "markdown",
   "metadata": {},
   "source": []
  }
 ],
 "metadata": {
  "language_info": {
   "name": "python"
  }
 },
 "nbformat": 4,
 "nbformat_minor": 2
}
