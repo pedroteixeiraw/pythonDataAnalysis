{
 "cells": [
  {
   "cell_type": "markdown",
   "metadata": {},
   "source": [
    "# Anagrams in the English dictionary"
   ]
  },
  {
   "cell_type": "markdown",
   "metadata": {},
   "source": [
    "Two words are anagrams of each other when their letters can be rearranged to turn one word into the other. For instance, **stop** can be anagrammed into **post**, **spot**, **tops**, **pots**, and **opts**. \n",
    "\n",
    "I'll use this simple strategy: I will define the **signature** of a word as the sorted list of its letters including duplicates. So the signature of Python would be hnopty. Two words are anagrams of each other if they have the same signature.\n",
    "\n",
    "signature('python') = 'hnopty'\n",
    "\n",
    "Thus, I'm going to make a Python dict of all the words in a dictionary indexed by the signature. Looking up if a word has an anagram would then be as simple as computing its signature and looking it up in the dict.\n",
    "\n",
    "anagrams_by_signature = {'post':{'post', 'spot', 'tops', 'pots', 'opts'}, ...}\n",
    "\n",
    "Let's begin!"
   ]
  },
  {
   "cell_type": "markdown",
   "metadata": {},
   "source": []
  }
 ],
 "metadata": {
  "language_info": {
   "name": "python"
  }
 },
 "nbformat": 4,
 "nbformat_minor": 2
}
